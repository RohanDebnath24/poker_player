{
 "cells": [
  {
   "cell_type": "code",
   "execution_count": 1,
   "metadata": {},
   "outputs": [],
   "source": [
    "def findPokerHand(hand):\n",
    "    ranks=[]\n",
    "    suits=[]\n",
    "    PossibleRanks=[ ]\n",
    "    for card in hand: \n",
    "      if len(card)==2:\n",
    "        rank=card[0]\n",
    "        suit=card[1]\n",
    "      else:\n",
    "        rank=card[0:2]\n",
    "        suit=card[2]\n",
    "      #print(cardrank,cardsuit)\n",
    "      if rank == 'A':\n",
    "         rank=14\n",
    "      elif rank== 'K':\n",
    "         rank=13\n",
    "      elif rank == 'Q':\n",
    "         rank=12\n",
    "      elif rank == 'J':\n",
    "         rank=11\n",
    "      ranks.append(int(rank))\n",
    "      suits.append(suit)\n",
    "    #print(ranks)\n",
    "    SortedRanks=sorted(ranks)\n",
    "    #print(SortedRanks)\n",
    "    #Check for Royal Flush and Straight Flush and Flush\n",
    "    if suits.count(suits[0])==5:\n",
    "      if 14 in SortedRanks and 13 in SortedRanks and 12 in SortedRanks and \\\n",
    "        11 in SortedRanks and 10 in SortedRanks:\n",
    "        PossibleRanks.append(10)#Royal Flush\n",
    "      if all(SortedRanks[i]== SortedRanks[i-1]+1 for i in range(1, len(SortedRanks))):\n",
    "        PossibleRanks.append(9)#Straight Flush\n",
    "      else:\n",
    "         PossibleRanks.append(6)#Flush\n",
    "    # Straight\n",
    "    # 10 11 12 13 14\n",
    "    #  11 == 10 + 1\n",
    "    if all(SortedRanks[i]== SortedRanks[i-1]+1 for i in range(1, len(SortedRanks))):\n",
    "       PossibleRanks.append(5)\n",
    "    # Four of a kind and Full House\n",
    "    # 3 3 3 3 5   -- set --- 3 5 --- unique values = 2 --- Four of a kind\n",
    "    # 3 3 3 5 5   -- set -- 3 5 ---- unique values = 2 --- Full house\n",
    "    handUniqueVals=list(set(SortedRanks))\n",
    "    if len(handUniqueVals)==2:\n",
    "       for val in handUniqueVals:\n",
    "          if SortedRanks.count(val)==4:\n",
    "             PossibleRanks.append(8)#Four of a kind\n",
    "          elif SortedRanks.count(val)==3:\n",
    "             PossibleRanks.append(7)#Full House\n",
    "    # Three of a Kind and Pair\n",
    "    # 5 5 5 6 7 -- set -- 5 6 7 --- unique values = 3   -- three of a kind\n",
    "    # 8 8 7 7 2 -- set -- 8 7 2 --- unique values = 3   -- two pair\n",
    "    if len(handUniqueVals)==3:\n",
    "       for val in handUniqueVals:\n",
    "          if SortedRanks.count(val)==3:\n",
    "             PossibleRanks.append(4)#Three of a kind\n",
    "          elif SortedRanks.count(val)==2:\n",
    "             PossibleRanks.append(3)#Two pair\n",
    "    # Pair\n",
    "    # 5 5 3 6 7 -- set -- 5 3 6 7 - unique values = 4 -- Pair\n",
    "    if len(handUniqueVals)==4:\n",
    "       PossibleRanks.append(2)#Pair\n",
    "    if not PossibleRanks:\n",
    "        PossibleRanks.append(1)#High Card\n",
    "    pokerHandRanks={10:'Royal FLush',9:\"Straight Flush\",8:\"Four of a kind\",7:\"Full House\",6:\"Flush\",5:\"Straight\",4:\"Three Of a Kind\",3:\"Two Pair\",2:\"Pair\",1:\"High Card\"}\n",
    "    output=pokerHandRanks[max(PossibleRanks)]\n",
    "    print(hand,output)\n",
    "    return output\n"
   ]
  },
  {
   "cell_type": "code",
   "execution_count": 2,
   "metadata": {},
   "outputs": [
    {
     "name": "stdout",
     "output_type": "stream",
     "text": [
      "['AH', 'KH', 'QH', 'JH', '10H'] Royal FLush\n",
      "['QC', 'JC', '10C', '9C', '8C'] Straight Flush\n",
      "['5C', '5S', '5H', '5D', 'QH'] Four of a kind\n",
      "['2H', '2D', '2S', '10H', '10C'] Full House\n",
      "['2D', 'KD', '7D', '6D', '5D'] Flush\n",
      "['JC', '10H', '9C', '8C', '7D'] Straight\n",
      "['10H', '10S', '10D', '2D', '5S'] Three Of a Kind\n",
      "['KD', 'KH', '5C', '5S', '6D'] Two Pair\n",
      "['2D', '2S', '9C', 'KD', '10C'] Pair\n",
      "['KD', '5H', '2D', '10C', 'JH'] High Card\n"
     ]
    }
   ],
   "source": [
    "if __name__ == \"__main__\":\n",
    "    findPokerHand([\"AH\",\"KH\",\"QH\",\"JH\",\"10H\"])#Royal flush\n",
    "    findPokerHand([\"QC\",\"JC\",\"10C\",\"9C\",\"8C\"])#straight flush\n",
    "    findPokerHand([\"5C\",\"5S\",\"5H\",\"5D\",\"QH\"])#four of a kind\n",
    "    findPokerHand([\"2H\",\"2D\",\"2S\",\"10H\",\"10C\"])#full house\n",
    "    findPokerHand([\"2D\",\"KD\",\"7D\",\"6D\",\"5D\"])#Flush\n",
    "    findPokerHand([\"JC\",\"10H\",\"9C\",\"8C\",\"7D\"])#Straight\n",
    "    findPokerHand([\"10H\",\"10S\",\"10D\",\"2D\",\"5S\"])#3 of a kind\n",
    "    findPokerHand([\"KD\",\"KH\",\"5C\",\"5S\",\"6D\"])#2 pair\n",
    "    findPokerHand([\"2D\",\"2S\",\"9C\",\"KD\",\"10C\"])#pair\n",
    "    findPokerHand([\"KD\",\"5H\",\"2D\",\"10C\",\"JH\"])#High Card"
   ]
  },
  {
   "cell_type": "code",
   "execution_count": 3,
   "metadata": {},
   "outputs": [],
   "source": [
    "#royal flush\n"
   ]
  }
 ],
 "metadata": {
  "kernelspec": {
   "display_name": ".venv",
   "language": "python",
   "name": "python3"
  },
  "language_info": {
   "codemirror_mode": {
    "name": "ipython",
    "version": 3
   },
   "file_extension": ".py",
   "mimetype": "text/x-python",
   "name": "python",
   "nbconvert_exporter": "python",
   "pygments_lexer": "ipython3",
   "version": "3.10.11"
  }
 },
 "nbformat": 4,
 "nbformat_minor": 2
}
